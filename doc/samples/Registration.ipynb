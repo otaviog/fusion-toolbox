{
 "cells": [
  {
   "cell_type": "markdown",
   "metadata": {},
   "source": [
    "# ICP Odometry\n",
    "\n",
    "This example will demonstrate how to use the Multiscale Iterative Closest Point algorithm.\n",
    "\n",
    "Let's use the sample1 as our source for frames:"
   ]
  },
  {
   "cell_type": "code",
   "execution_count": 2,
   "metadata": {},
   "outputs": [],
   "source": [
    "from fiontb.testing import load_sample1_dataset\n",
    "dataset = load_sample1_dataset()\n",
    "\n",
    "# Grab some frames\n",
    "frame0 = dataset[0]\n",
    "frame1 = dataset[14]\n"
   ]
  },
  {
   "cell_type": "markdown",
   "metadata": {},
   "source": [
    "Pass bilateral filter to reduce depth noise:"
   ]
  },
  {
   "cell_type": "code",
   "execution_count": 3,
   "metadata": {},
   "outputs": [],
   "source": [
    "from fiontb.processing import bilateral_depth_filter\n",
    "\n",
    "frame0.depth_image = bilateral_depth_filter(frame0.depth_image)\n",
    "frame1.depth_image = bilateral_depth_filter(frame1.depth_image)"
   ]
  },
  {
   "cell_type": "markdown",
   "metadata": {},
   "source": [
    "Create an instance of ICP algorithm. Using multiscaling"
   ]
  },
  {
   "cell_type": "code",
   "execution_count": 4,
   "metadata": {},
   "outputs": [],
   "source": [
    "from fiontb.registration.icp import MultiscaleICPOdometry, ICPOption, ICPVerifier\n",
    "from fiontb.processing import to_color_feature\n",
    "icp = MultiscaleICPOdometry([ICPOption(1.0, iters=10), # <- Scales are listed in the inverse order that they're applied\n",
    "                             ICPOption(0.5, iters=15),\n",
    "                             ICPOption(0.5, iters=20)])"
   ]
  },
  {
   "cell_type": "markdown",
   "metadata": {},
   "source": [
    "Run the algorithm. The overload accepts `fiontb.frame.Frame` or `fiontb.frame.FramePointCloud`."
   ]
  },
  {
   "cell_type": "code",
   "execution_count": 5,
   "metadata": {},
   "outputs": [],
   "source": [
    "result = icp.estimate_frame(frame1, frame0,\n",
    "                            source_feats=to_color_feature(frame1.rgb_image),\n",
    "                            target_feats=to_color_feature(frame0.rgb_image))"
   ]
  },
  {
   "cell_type": "markdown",
   "metadata": {},
   "source": [
    "Simple verifier routine, uses the matching ratio of points and max convariance"
   ]
  },
  {
   "cell_type": "code",
   "execution_count": 6,
   "metadata": {},
   "outputs": [],
   "source": [
    "verifier = ICPVerifier(match_ratio_threshold=6e-1, covariance_max_threshold=1e-04)\n",
    "if not verifier(result):\n",
    "    print(\"Bad result detected\")"
   ]
  },
  {
   "cell_type": "markdown",
   "metadata": {},
   "source": [
    "Show the result:"
   ]
  },
  {
   "cell_type": "code",
   "execution_count": 8,
   "metadata": {},
   "outputs": [],
   "source": [
    "from fiontb.viz import geoshow\n",
    "from fiontb.pointcloud import PointCloud\n",
    "\n",
    "geoshow([PointCloud.from_frame(frame0, world_space=False)[0],\n",
    "         PointCloud.from_frame(frame1, world_space=False)[0].transform(result.transform.float())],\n",
    "        title=\"Aligned frames\", invert_y=True)"
   ]
  },
  {
   "cell_type": "markdown",
   "metadata": {},
   "source": [
    "Evaluate the result:"
   ]
  },
  {
   "cell_type": "code",
   "execution_count": 9,
   "metadata": {},
   "outputs": [
    {
     "name": "stdout",
     "output_type": "stream",
     "text": [
      "Translational error:  0.007795434613406461\n",
      "Rotational error:  5.963970124867046e-06\n"
     ]
    }
   ],
   "source": [
    "from fiontb.metrics.trajectory import relative_translational_error, relative_rotational_error\n",
    "from fiontb.camera import RTCamera\n",
    "\n",
    "gt_trajectory = {frame0.info.timestamp: frame0.info.rt_cam,\n",
    "                 frame1.info.timestamp: frame1.info.rt_cam}\n",
    "pred_trajectory = {frame0.info.timestamp: RTCamera(),\n",
    "                   frame1.info.timestamp: RTCamera(result.transform)}\n",
    "\n",
    "print(\"Translational error: \",\n",
    "      relative_translational_error(gt_trajectory, pred_trajectory).item())\n",
    "print(\"Rotational error: \",\n",
    "      relative_rotational_error(gt_trajectory, pred_trajectory).item())"
   ]
  }
 ],
 "metadata": {
  "kernelspec": {
   "display_name": "Python 3",
   "language": "python",
   "name": "python3"
  },
  "language_info": {
   "codemirror_mode": {
    "name": "ipython",
    "version": 3
   },
   "file_extension": ".py",
   "mimetype": "text/x-python",
   "name": "python",
   "nbconvert_exporter": "python",
   "pygments_lexer": "ipython3",
   "version": "3.7.5"
  }
 },
 "nbformat": 4,
 "nbformat_minor": 4
}
