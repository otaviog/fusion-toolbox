{
 "cells": [
  {
   "cell_type": "markdown",
   "metadata": {},
   "source": [
    "from fiontb.data.ftb import load_ftb\n",
    "\n",
    "dataset = load_ftb(\"test-damta/rgbd/sample2\")\n",
    "frame = dataset[0]"
   ]
  },
  {
   "cell_type": "markdown",
   "metadata": {},
   "source": [
    "A point cloud with per-point attributes arraged as its source image."
   ]
  },
  {
   "cell_type": "code",
   "execution_count": null,
   "metadata": {},
   "outputs": [],
   "source": [
    "from fiontb.frame import FramePointCloud\n",
    "fpcl = FramePointCloud.from_frame(frame)\n",
    "\n",
    "print(\"FramePointCloud:\")\n",
    "print(\"`.points` shape: {fpcl.points.shape} and dtype: {fpcl.points.dtype}\".format(fpcl=fpcl))\n",
    "print(\"`.mask` shape: {fpcl.mask.shape} and dtype: {fpcl.mask.dtype}\".format(fpcl=fpcl))\n",
    "print(\"`.colors` shape: {fpcl.colors.shape} and dtype: {fpcl.colors.dtype}\".format(fpcl=fpcl))\n",
    "print(\"`.normals` shape: {fpcl.normals.shape} and dtype: {fpcl.normals.dtype}\".format(fpcl=fpcl))\n",
    "print(\"\")\n"
   ]
  },
  {
   "cell_type": "markdown",
   "metadata": {},
   "source": [
    " Import `geoshow` for displaying interactive 3D of the geometries."
   ]
  },
  {
   "cell_type": "code",
   "execution_count": null,
   "metadata": {},
   "outputs": [],
   "source": [
    "from fiontb.viz import geoshow\n",
    "geoshow([fpcl], title=\"FramePointCloud\")"
   ]
  },
  {
   "cell_type": "markdown",
   "metadata": {},
   "source": [
    "A loose point cloud with no specific ordering of its points"
   ]
  },
  {
   "cell_type": "code",
   "execution_count": null,
   "metadata": {},
   "outputs": [],
   "source": [
    "pcl = fpcl.unordered_point_cloud(world_space=True)\n",
    "# PointCloud also have a `from_frame` method\n",
    "print(\"PointCloud:\")\n",
    "print(\"`.points` shape: {pcl.points.shape} and dtype: {pcl.points.dtype}\".format(pcl=pcl))\n",
    "print(\"`.colors` shape: {pcl.colors.shape} and dtype: {pcl.colors.dtype}\".format(pcl=pcl))\n",
    "print(\"`.normals` shape: {pcl.normals.shape} and dtype: {pcl.normals.dtype}\".format(pcl=pcl))\n",
    "print(\"\")\n",
    "geoshow([fpcl], title=\"PointCloud\")"
   ]
  },
  {
   "cell_type": "markdown",
   "metadata": {},
   "source": [
    "\"Surfels are glorified point clouds\". Besides the common point cloud\n",
    " attributes, surfels also have radius and a confidence scale number."
   ]
  },
  {
   "cell_type": "code",
   "execution_count": null,
   "metadata": {},
   "outputs": [],
   "source": [
    "from fiontb.surfel import SurfelCloud\n",
    "scl = SurfelCloud.from_frame(frame)\n",
    "print(\"`.points` shape: {scl.points.shape} and dtype: {scl.points.dtype}\".format(scl=scl))\n",
    "print(\"`.colors` shape: {scl.colors.shape} and dtype: {scl.colors.dtype}\".format(scl=scl))\n",
    "print(\"`.normals` shape: {scl.normals.shape} and dtype: {scl.normals.dtype}\".format(scl=scl))\n",
    "print(\"`.radii` shape: {scl.radii.shape} and dtype: {scl.radii.dtype}\".format(scl=scl))\n",
    "print(\"`.confidences` shape: {scl.confidences.shape} and dtype: {scl.confidences.dtype}\".format(scl=scl))\n",
    "\n",
    "geoshow([scl], title=\"SurfelCloud\")\n"
   ]
  }
 ],
 "metadata": {
  "kernelspec": {
   "display_name": "Python 3",
   "language": "python",
   "name": "python3"
  },
  "language_info": {
   "codemirror_mode": {
    "name": "ipython",
    "version": 3
   },
   "file_extension": ".py",
   "mimetype": "text/x-python",
   "name": "python",
   "nbconvert_exporter": "python",
   "pygments_lexer": "ipython3",
   "version": "3.7.6"
  }
 },
 "nbformat": 4,
 "nbformat_minor": 4
}
